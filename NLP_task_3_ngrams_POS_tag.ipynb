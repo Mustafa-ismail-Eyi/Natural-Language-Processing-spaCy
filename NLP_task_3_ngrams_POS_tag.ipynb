{
 "cells": [
  {
   "cell_type": "code",
   "execution_count": 40,
   "metadata": {},
   "outputs": [],
   "source": [
    "import spacy\n",
    "from spacy import displacy\n",
    "from collections import Counter\n",
    "from matplotlib import pyplot as plt\n",
    "nlp = spacy.load('en_core_web_sm')"
   ]
  },
  {
   "cell_type": "markdown",
   "metadata": {},
   "source": [
    "## Universal POS TAGs\n",
    "<b style=color:red>POS</b>\tDESCRIPTION\tEXAMPLES<br><br>\n",
    "\n",
    "<b style=color:red>ADJ</b>\tadjective\tbig, old, green, incomprehensible, first<br><br>\n",
    "<b style=color:red>ADP</b>  adposition\tin, to, during<br><br>\n",
    "<b style=color:red>ADV</b>\tadverb\tvery, tomorrow, down, where, there<br><br>\n",
    "<b style=color:red>AUX</b>\tauxiliary\tis, has (done), will (do), should (do)<br><br>\n",
    "<b style=color:red>CONJ</b>\tconjunction\tand, or, but<br><br>\n",
    "<b style=color:red>CCONJ</b>\tcoordinating conjunction\tand, or, but<br><br>\n",
    "<b style=color:red>DET</b>\tdeterminer\ta, an, the<br><br>\n",
    "<b style=color:red>INTJ</b>\tinterjection\tpsst, ouch, bravo, hello<br><br>\n",
    "<b style=color:red>NOUN</b>\tnoun\tgirl, cat, tree, air, beauty<br><br>\n",
    "<b style=color:red>NUM</b>\tnumeral\t1, 2017, one, seventy-seven, IV, MMXIV<br><br>\n",
    "<b style=color:red>PART</b>\tparticle\t’s, not,<br><br>\n",
    "<b style=color:red>PRON</b>\tpronoun\tI, you, he, she, myself, themselves, somebody<br><br>\n",
    "<b style=color:red>PROPN</b>\tproper noun\tMary, John, London, NATO, HBO<br><br>\n",
    "<b style=color:red>PUNCT</b>\tpunctuation\t., (, ), ?<br><br>\n",
    "<b style=color:red>SCONJ</b>\tsubordinating conjunction\tif, while, that<br><br>\n",
    "<b style=color:red>SYM</b>\tsymbol\t %, §, ©, +, −, ×, ÷, =, :), 😝 <br><br>\n",
    "<b style=color:red>VERB</b>\tverb\trun, runs, running, eat, ate, eating <br><br>\n",
    "<b style=color:red>X</b>\tother\tsfpksdpsxmsa<br><br>\n",
    "<b style=color:red>SPACE</b>\tspace \t"
   ]
  },
  {
   "cell_type": "code",
   "execution_count": 313,
   "metadata": {},
   "outputs": [],
   "source": [
    "text1 =\"Manchester United looked to be heading upwards when they qualified for the \\\n",
    "Champions League following a strong end to the 2019/20 season. Fast-forward three months and they are 15th in the Premier League \\\n",
    "and reeling from an embarrassing defeat to Istanbul Basaksehir. \\\n",
    "The Champions League had provided a welcome distraction from domestic difficulties \\\n",
    "for Ole Gunnar Solskjaer\\'s side, but, having beaten Paris Saint-Germain and RB Leipzig, \\\n",
    "their shortcomings were exposed in an abject defeat on the banks of the Bosporus on Wednesday evening. \\\n",
    "Manchester United were supposed to push on this season, they were supposed to \\\n",
    "build on that late surge which secured a top-four finish on the final day. Instead, they have \\\n",
    "made their worst start since the David Moyes era, and worst start at Old Trafford in almost half a century. \\\n",
    "After all the promise, how did we end up here? Did complacency seep into Old Trafford following their \\\n",
    "surge to qualify for the Champions League? Three months on, remarks by Gary Neville immediately \\\n",
    "after United joined Chelsea in securing a top-four finish on the final day of last season make for sobering reading. \\\n",
    "\\\"What Manchester United and Chelsea need now is to not think this is OK,\\\" Neville said. \\\"The big mistake \\\n",
    "these two clubs could make would be to think they are going catch Manchester City and Liverpool. \\\n",
    "They won't if they don't improve by another 10-15 per cent.\\\n",
    "\\\"Solskjaer needs to spend money, but not recklessly. There needs to be a right winger, \\\n",
    "there needs to be a challenge at centre-forward, at left-back, definitely at goalkeeper \\\n",
    "and they need a centre-back, a top centre-back who can bring that level of domination to a defence like Virgil van Dijk does \\\n",
    "at Liverpool.\\\"\""
   ]
  },
  {
   "cell_type": "code",
   "execution_count": 314,
   "metadata": {},
   "outputs": [
    {
     "data": {
      "text/plain": [
       "1712"
      ]
     },
     "execution_count": 314,
     "metadata": {},
     "output_type": "execute_result"
    }
   ],
   "source": [
    "len(text1)"
   ]
  },
  {
   "cell_type": "code",
   "execution_count": 315,
   "metadata": {},
   "outputs": [],
   "source": [
    "text2 = \"A recommender system aims to provide users with personalized online product or service recommendations to handle \\\n",
    "the increasing online information overload problem and improve customer relationship management. \\\n",
    "Various recommender system techniques have been proposed since the mid-1990s, and many sorts of recommender \\\n",
    "system software have been developed recently for a variety of applications. Researchers and managers recognize \\\n",
    "that recommender systems offer great opportunities and challenges for business, government, education, and other domains, \\\n",
    "with more recent successful developments of recommender systems for real-world applications becoming apparent. \\\n",
    "It is thus vital that a high quality, instructive review of current trends should be conducted, not only of the theoretical \\\n",
    "research results but more importantly of the practical developments in recommender systems. This paper therefore reviews \\\n",
    "up-to-date application developments of recommender systems, clusters their applications into eight main categories: \\\n",
    "e-government, e-business, e-commerce/e-shopping, e-library, e-learning, e-tourism, e-resource services and e-group activities, \\\n",
    "and summarizes the related recommendation techniques used in each category. It systematically examines the reported recommender \\\n",
    "systems through four dimensions: recommendation methods (such as CF), recommender systems software (such as BizSeeker), \\\n",
    "real-world application domains (such as e-business) and application platforms (such as mobile-based platforms). \\\n",
    "Some significant new topics are identified and listed as new directions. By providing a state-of-the-art knowledge, \\\n",
    "this survey will directly support researchers and practical professionals in their understanding of developments in recommender \\\n",
    "system applications.\""
   ]
  },
  {
   "cell_type": "code",
   "execution_count": 316,
   "metadata": {},
   "outputs": [
    {
     "data": {
      "text/plain": [
       "1774"
      ]
     },
     "execution_count": 316,
     "metadata": {},
     "output_type": "execute_result"
    }
   ],
   "source": [
    "len(text2)"
   ]
  },
  {
   "cell_type": "markdown",
   "metadata": {},
   "source": [
    "## spaCy Model POS TAGs\n",
    "<b style=color:red>LABEL</b>\tDESCRIPTION <br><br>\n",
    "<b style=color:red>acl</b>\tclausal modifier of noun (adjectival clause)<br><br>\n",
    "<b style=color:red>acomp</b>\tadjectival complement<br><br>\n",
    "<b style=color:red>advcl</b>\tadverbial clause modifier<br><br>\n",
    "<b style=color:red>advmod</b>\tadverbial modifierv\n",
    "<b style=color:red>agent</b>\tagent<br><br>\n",
    "<b style=color:red>amod</b>\tadjectival modifier<br><br>\n",
    "<b style=color:red>appos</b>\tappositional modifier<br><br>\n",
    "<b style=color:red>attr</b>\tattribute<br><br>\n",
    "<b style=color:red>aux</b>\tauxiliary<br><br>\n",
    "<b style=color:red>auxpass</b>\tauxiliary (passive)<br><br>\n",
    "<b style=color:red>case</b>\tcase marking<br><br>\n",
    "<b style=color:red>cc</b>\tcoordinating conjunction<br><br>\n",
    "<b style=color:red>ccomp</b>\tclausal complement<br><br>\n",
    "<b style=color:red>compound</b>\tcompound<br><br>\n",
    "<b style=color:red>conj</b>\tconjunct<br><br>\n",
    "<b style=color:red>cop</b>\tcopula<br><br>\n",
    "<b style=color:red>csubj</b>\tclausal subject<br><br>\n",
    "<b style=color:red>csubjpass</b>\tclausal subject (passive)<br><br>\n",
    "<b style=color:red>dative</b>\tdative<br><br>\n",
    "<b style=color:red>dep</b>\tunclassified dependent<br><br>\n",
    "<b style=color:red>det</b>\tdeterminer<br><br>\n",
    "<b style=color:red>dobj</b>\tdirect object<br><br>\n",
    "<b style=color:red>expl</b>\texpletive<br><br>\n",
    "<b style=color:red>intj</b>\tinterjection<br><br>\n",
    "<b style=color:red>mark</b>\tmarker<br><br>\n",
    "<b style=color:red>meta</b>\tmeta modifier<br><br>\n",
    "<b style=color:red>neg</b>\tnegation modifier<br><br>\n",
    "<b style=color:red>nn</b>\tnoun compound modifier<br><br>\n",
    "<b style=color:red>nounmod</b>\tmodifier of nominal<br><br>\n",
    "<b style=color:red>npmod</b>\tnoun phrase as adverbial modifier<br><br>\n",
    "<b style=color:red>nsubj</b>\tnominal subject<br><br>\n",
    "<b style=color:red>nsubjpass</b>\tnominal subject (passive)<br><br>\n",
    "<b style=color:red>nummod</b>\tnumeric modifier<br><br>\n",
    "<b style=color:red>oprd</b>\tobject predicate<br><br>\n",
    "<b style=color:red>obj</b>\tobject<br><br>\n",
    "<b style=color:red>obl</b>\toblique nominal<br><br>\n",
    "<b style=color:red>parataxis</b>\tparataxis<br><br>\n",
    "<b style=color:red>pcomp</b>\tcomplement of preposition<br><br>\n",
    "<b style=color:red>pobj</b>\tobject of preposition<br><br>\n",
    "<b style=color:red>poss</b>\tpossession modifier<br><br>\n",
    "<b style=color:red>preconj</b>\tpre-correlative conjunction<br><br>\n",
    "<b style=color:red>prep</b>\tprepositional modifier<br><br><b style=color:red>advmod</b>\n",
    "<b style=color:red>prt</b>\tparticle<br><br>\n",
    "<b style=color:red>punct</b>\tpunctuation<br><br>\n",
    "<b style=color:red>quantmod</b>\tmodifier of quantifier<br><br>\n",
    "<b style=color:red>relcl</b>\trelative clause modifier<br><br>\n",
    "<b style=color:red>root</b>\troot<br><br>\n",
    "<b style=color:red>xcomp</b>\topen clausal complement<br><br>"
   ]
  },
  {
   "cell_type": "code",
   "execution_count": 334,
   "metadata": {},
   "outputs": [
    {
     "data": {
      "text/html": [
       "<span class=\"tex2jax_ignore\"><svg xmlns=\"http://www.w3.org/2000/svg\" xmlns:xlink=\"http://www.w3.org/1999/xlink\" xml:lang=\"en\" id=\"d82d6a74d5d44996ad7bb78e487a5ed5-0\" class=\"displacy\" width=\"3900\" height=\"574.5\" direction=\"ltr\" style=\"max-width: none; height: 574.5px; color: #000000; background: #ffffff; font-family: Arial; direction: ltr\">\n",
       "<text class=\"displacy-token\" fill=\"currentColor\" text-anchor=\"middle\" y=\"484.5\">\n",
       "    <tspan class=\"displacy-word\" fill=\"currentColor\" x=\"50\">Manchester</tspan>\n",
       "    <tspan class=\"displacy-tag\" dy=\"2em\" fill=\"currentColor\" x=\"50\">PROPN</tspan>\n",
       "</text>\n",
       "\n",
       "<text class=\"displacy-token\" fill=\"currentColor\" text-anchor=\"middle\" y=\"484.5\">\n",
       "    <tspan class=\"displacy-word\" fill=\"currentColor\" x=\"225\">United</tspan>\n",
       "    <tspan class=\"displacy-tag\" dy=\"2em\" fill=\"currentColor\" x=\"225\">PROPN</tspan>\n",
       "</text>\n",
       "\n",
       "<text class=\"displacy-token\" fill=\"currentColor\" text-anchor=\"middle\" y=\"484.5\">\n",
       "    <tspan class=\"displacy-word\" fill=\"currentColor\" x=\"400\">looked</tspan>\n",
       "    <tspan class=\"displacy-tag\" dy=\"2em\" fill=\"currentColor\" x=\"400\">VERB</tspan>\n",
       "</text>\n",
       "\n",
       "<text class=\"displacy-token\" fill=\"currentColor\" text-anchor=\"middle\" y=\"484.5\">\n",
       "    <tspan class=\"displacy-word\" fill=\"currentColor\" x=\"575\">to</tspan>\n",
       "    <tspan class=\"displacy-tag\" dy=\"2em\" fill=\"currentColor\" x=\"575\">PART</tspan>\n",
       "</text>\n",
       "\n",
       "<text class=\"displacy-token\" fill=\"currentColor\" text-anchor=\"middle\" y=\"484.5\">\n",
       "    <tspan class=\"displacy-word\" fill=\"currentColor\" x=\"750\">be</tspan>\n",
       "    <tspan class=\"displacy-tag\" dy=\"2em\" fill=\"currentColor\" x=\"750\">AUX</tspan>\n",
       "</text>\n",
       "\n",
       "<text class=\"displacy-token\" fill=\"currentColor\" text-anchor=\"middle\" y=\"484.5\">\n",
       "    <tspan class=\"displacy-word\" fill=\"currentColor\" x=\"925\">heading</tspan>\n",
       "    <tspan class=\"displacy-tag\" dy=\"2em\" fill=\"currentColor\" x=\"925\">VERB</tspan>\n",
       "</text>\n",
       "\n",
       "<text class=\"displacy-token\" fill=\"currentColor\" text-anchor=\"middle\" y=\"484.5\">\n",
       "    <tspan class=\"displacy-word\" fill=\"currentColor\" x=\"1100\">upwards</tspan>\n",
       "    <tspan class=\"displacy-tag\" dy=\"2em\" fill=\"currentColor\" x=\"1100\">ADV</tspan>\n",
       "</text>\n",
       "\n",
       "<text class=\"displacy-token\" fill=\"currentColor\" text-anchor=\"middle\" y=\"484.5\">\n",
       "    <tspan class=\"displacy-word\" fill=\"currentColor\" x=\"1275\">when</tspan>\n",
       "    <tspan class=\"displacy-tag\" dy=\"2em\" fill=\"currentColor\" x=\"1275\">ADV</tspan>\n",
       "</text>\n",
       "\n",
       "<text class=\"displacy-token\" fill=\"currentColor\" text-anchor=\"middle\" y=\"484.5\">\n",
       "    <tspan class=\"displacy-word\" fill=\"currentColor\" x=\"1450\">they</tspan>\n",
       "    <tspan class=\"displacy-tag\" dy=\"2em\" fill=\"currentColor\" x=\"1450\">PRON</tspan>\n",
       "</text>\n",
       "\n",
       "<text class=\"displacy-token\" fill=\"currentColor\" text-anchor=\"middle\" y=\"484.5\">\n",
       "    <tspan class=\"displacy-word\" fill=\"currentColor\" x=\"1625\">qualified</tspan>\n",
       "    <tspan class=\"displacy-tag\" dy=\"2em\" fill=\"currentColor\" x=\"1625\">VERB</tspan>\n",
       "</text>\n",
       "\n",
       "<text class=\"displacy-token\" fill=\"currentColor\" text-anchor=\"middle\" y=\"484.5\">\n",
       "    <tspan class=\"displacy-word\" fill=\"currentColor\" x=\"1800\">for</tspan>\n",
       "    <tspan class=\"displacy-tag\" dy=\"2em\" fill=\"currentColor\" x=\"1800\">ADP</tspan>\n",
       "</text>\n",
       "\n",
       "<text class=\"displacy-token\" fill=\"currentColor\" text-anchor=\"middle\" y=\"484.5\">\n",
       "    <tspan class=\"displacy-word\" fill=\"currentColor\" x=\"1975\">the</tspan>\n",
       "    <tspan class=\"displacy-tag\" dy=\"2em\" fill=\"currentColor\" x=\"1975\">DET</tspan>\n",
       "</text>\n",
       "\n",
       "<text class=\"displacy-token\" fill=\"currentColor\" text-anchor=\"middle\" y=\"484.5\">\n",
       "    <tspan class=\"displacy-word\" fill=\"currentColor\" x=\"2150\">Champions</tspan>\n",
       "    <tspan class=\"displacy-tag\" dy=\"2em\" fill=\"currentColor\" x=\"2150\">PROPN</tspan>\n",
       "</text>\n",
       "\n",
       "<text class=\"displacy-token\" fill=\"currentColor\" text-anchor=\"middle\" y=\"484.5\">\n",
       "    <tspan class=\"displacy-word\" fill=\"currentColor\" x=\"2325\">League</tspan>\n",
       "    <tspan class=\"displacy-tag\" dy=\"2em\" fill=\"currentColor\" x=\"2325\">PROPN</tspan>\n",
       "</text>\n",
       "\n",
       "<text class=\"displacy-token\" fill=\"currentColor\" text-anchor=\"middle\" y=\"484.5\">\n",
       "    <tspan class=\"displacy-word\" fill=\"currentColor\" x=\"2500\">following</tspan>\n",
       "    <tspan class=\"displacy-tag\" dy=\"2em\" fill=\"currentColor\" x=\"2500\">VERB</tspan>\n",
       "</text>\n",
       "\n",
       "<text class=\"displacy-token\" fill=\"currentColor\" text-anchor=\"middle\" y=\"484.5\">\n",
       "    <tspan class=\"displacy-word\" fill=\"currentColor\" x=\"2675\">a</tspan>\n",
       "    <tspan class=\"displacy-tag\" dy=\"2em\" fill=\"currentColor\" x=\"2675\">DET</tspan>\n",
       "</text>\n",
       "\n",
       "<text class=\"displacy-token\" fill=\"currentColor\" text-anchor=\"middle\" y=\"484.5\">\n",
       "    <tspan class=\"displacy-word\" fill=\"currentColor\" x=\"2850\">strong</tspan>\n",
       "    <tspan class=\"displacy-tag\" dy=\"2em\" fill=\"currentColor\" x=\"2850\">ADJ</tspan>\n",
       "</text>\n",
       "\n",
       "<text class=\"displacy-token\" fill=\"currentColor\" text-anchor=\"middle\" y=\"484.5\">\n",
       "    <tspan class=\"displacy-word\" fill=\"currentColor\" x=\"3025\">end</tspan>\n",
       "    <tspan class=\"displacy-tag\" dy=\"2em\" fill=\"currentColor\" x=\"3025\">NOUN</tspan>\n",
       "</text>\n",
       "\n",
       "<text class=\"displacy-token\" fill=\"currentColor\" text-anchor=\"middle\" y=\"484.5\">\n",
       "    <tspan class=\"displacy-word\" fill=\"currentColor\" x=\"3200\">to</tspan>\n",
       "    <tspan class=\"displacy-tag\" dy=\"2em\" fill=\"currentColor\" x=\"3200\">ADP</tspan>\n",
       "</text>\n",
       "\n",
       "<text class=\"displacy-token\" fill=\"currentColor\" text-anchor=\"middle\" y=\"484.5\">\n",
       "    <tspan class=\"displacy-word\" fill=\"currentColor\" x=\"3375\">the</tspan>\n",
       "    <tspan class=\"displacy-tag\" dy=\"2em\" fill=\"currentColor\" x=\"3375\">DET</tspan>\n",
       "</text>\n",
       "\n",
       "<text class=\"displacy-token\" fill=\"currentColor\" text-anchor=\"middle\" y=\"484.5\">\n",
       "    <tspan class=\"displacy-word\" fill=\"currentColor\" x=\"3550\">2019/20</tspan>\n",
       "    <tspan class=\"displacy-tag\" dy=\"2em\" fill=\"currentColor\" x=\"3550\">NUM</tspan>\n",
       "</text>\n",
       "\n",
       "<text class=\"displacy-token\" fill=\"currentColor\" text-anchor=\"middle\" y=\"484.5\">\n",
       "    <tspan class=\"displacy-word\" fill=\"currentColor\" x=\"3725\">season.</tspan>\n",
       "    <tspan class=\"displacy-tag\" dy=\"2em\" fill=\"currentColor\" x=\"3725\">NOUN</tspan>\n",
       "</text>\n",
       "\n",
       "<g class=\"displacy-arrow\">\n",
       "    <path class=\"displacy-arc\" id=\"arrow-d82d6a74d5d44996ad7bb78e487a5ed5-0-0\" stroke-width=\"2px\" d=\"M70,439.5 C70,352.0 205.0,352.0 205.0,439.5\" fill=\"none\" stroke=\"currentColor\"/>\n",
       "    <text dy=\"1.25em\" style=\"font-size: 0.8em; letter-spacing: 1px\">\n",
       "        <textPath xlink:href=\"#arrow-d82d6a74d5d44996ad7bb78e487a5ed5-0-0\" class=\"displacy-label\" startOffset=\"50%\" side=\"left\" fill=\"currentColor\" text-anchor=\"middle\">compound</textPath>\n",
       "    </text>\n",
       "    <path class=\"displacy-arrowhead\" d=\"M70,441.5 L62,429.5 78,429.5\" fill=\"currentColor\"/>\n",
       "</g>\n",
       "\n",
       "<g class=\"displacy-arrow\">\n",
       "    <path class=\"displacy-arc\" id=\"arrow-d82d6a74d5d44996ad7bb78e487a5ed5-0-1\" stroke-width=\"2px\" d=\"M245,439.5 C245,352.0 380.0,352.0 380.0,439.5\" fill=\"none\" stroke=\"currentColor\"/>\n",
       "    <text dy=\"1.25em\" style=\"font-size: 0.8em; letter-spacing: 1px\">\n",
       "        <textPath xlink:href=\"#arrow-d82d6a74d5d44996ad7bb78e487a5ed5-0-1\" class=\"displacy-label\" startOffset=\"50%\" side=\"left\" fill=\"currentColor\" text-anchor=\"middle\">nsubj</textPath>\n",
       "    </text>\n",
       "    <path class=\"displacy-arrowhead\" d=\"M245,441.5 L237,429.5 253,429.5\" fill=\"currentColor\"/>\n",
       "</g>\n",
       "\n",
       "<g class=\"displacy-arrow\">\n",
       "    <path class=\"displacy-arc\" id=\"arrow-d82d6a74d5d44996ad7bb78e487a5ed5-0-2\" stroke-width=\"2px\" d=\"M595,439.5 C595,264.5 910.0,264.5 910.0,439.5\" fill=\"none\" stroke=\"currentColor\"/>\n",
       "    <text dy=\"1.25em\" style=\"font-size: 0.8em; letter-spacing: 1px\">\n",
       "        <textPath xlink:href=\"#arrow-d82d6a74d5d44996ad7bb78e487a5ed5-0-2\" class=\"displacy-label\" startOffset=\"50%\" side=\"left\" fill=\"currentColor\" text-anchor=\"middle\">aux</textPath>\n",
       "    </text>\n",
       "    <path class=\"displacy-arrowhead\" d=\"M595,441.5 L587,429.5 603,429.5\" fill=\"currentColor\"/>\n",
       "</g>\n",
       "\n",
       "<g class=\"displacy-arrow\">\n",
       "    <path class=\"displacy-arc\" id=\"arrow-d82d6a74d5d44996ad7bb78e487a5ed5-0-3\" stroke-width=\"2px\" d=\"M770,439.5 C770,352.0 905.0,352.0 905.0,439.5\" fill=\"none\" stroke=\"currentColor\"/>\n",
       "    <text dy=\"1.25em\" style=\"font-size: 0.8em; letter-spacing: 1px\">\n",
       "        <textPath xlink:href=\"#arrow-d82d6a74d5d44996ad7bb78e487a5ed5-0-3\" class=\"displacy-label\" startOffset=\"50%\" side=\"left\" fill=\"currentColor\" text-anchor=\"middle\">aux</textPath>\n",
       "    </text>\n",
       "    <path class=\"displacy-arrowhead\" d=\"M770,441.5 L762,429.5 778,429.5\" fill=\"currentColor\"/>\n",
       "</g>\n",
       "\n",
       "<g class=\"displacy-arrow\">\n",
       "    <path class=\"displacy-arc\" id=\"arrow-d82d6a74d5d44996ad7bb78e487a5ed5-0-4\" stroke-width=\"2px\" d=\"M420,439.5 C420,177.0 915.0,177.0 915.0,439.5\" fill=\"none\" stroke=\"currentColor\"/>\n",
       "    <text dy=\"1.25em\" style=\"font-size: 0.8em; letter-spacing: 1px\">\n",
       "        <textPath xlink:href=\"#arrow-d82d6a74d5d44996ad7bb78e487a5ed5-0-4\" class=\"displacy-label\" startOffset=\"50%\" side=\"left\" fill=\"currentColor\" text-anchor=\"middle\">xcomp</textPath>\n",
       "    </text>\n",
       "    <path class=\"displacy-arrowhead\" d=\"M915.0,441.5 L923.0,429.5 907.0,429.5\" fill=\"currentColor\"/>\n",
       "</g>\n",
       "\n",
       "<g class=\"displacy-arrow\">\n",
       "    <path class=\"displacy-arc\" id=\"arrow-d82d6a74d5d44996ad7bb78e487a5ed5-0-5\" stroke-width=\"2px\" d=\"M945,439.5 C945,352.0 1080.0,352.0 1080.0,439.5\" fill=\"none\" stroke=\"currentColor\"/>\n",
       "    <text dy=\"1.25em\" style=\"font-size: 0.8em; letter-spacing: 1px\">\n",
       "        <textPath xlink:href=\"#arrow-d82d6a74d5d44996ad7bb78e487a5ed5-0-5\" class=\"displacy-label\" startOffset=\"50%\" side=\"left\" fill=\"currentColor\" text-anchor=\"middle\">advmod</textPath>\n",
       "    </text>\n",
       "    <path class=\"displacy-arrowhead\" d=\"M1080.0,441.5 L1088.0,429.5 1072.0,429.5\" fill=\"currentColor\"/>\n",
       "</g>\n",
       "\n",
       "<g class=\"displacy-arrow\">\n",
       "    <path class=\"displacy-arc\" id=\"arrow-d82d6a74d5d44996ad7bb78e487a5ed5-0-6\" stroke-width=\"2px\" d=\"M1295,439.5 C1295,264.5 1610.0,264.5 1610.0,439.5\" fill=\"none\" stroke=\"currentColor\"/>\n",
       "    <text dy=\"1.25em\" style=\"font-size: 0.8em; letter-spacing: 1px\">\n",
       "        <textPath xlink:href=\"#arrow-d82d6a74d5d44996ad7bb78e487a5ed5-0-6\" class=\"displacy-label\" startOffset=\"50%\" side=\"left\" fill=\"currentColor\" text-anchor=\"middle\">advmod</textPath>\n",
       "    </text>\n",
       "    <path class=\"displacy-arrowhead\" d=\"M1295,441.5 L1287,429.5 1303,429.5\" fill=\"currentColor\"/>\n",
       "</g>\n",
       "\n",
       "<g class=\"displacy-arrow\">\n",
       "    <path class=\"displacy-arc\" id=\"arrow-d82d6a74d5d44996ad7bb78e487a5ed5-0-7\" stroke-width=\"2px\" d=\"M1470,439.5 C1470,352.0 1605.0,352.0 1605.0,439.5\" fill=\"none\" stroke=\"currentColor\"/>\n",
       "    <text dy=\"1.25em\" style=\"font-size: 0.8em; letter-spacing: 1px\">\n",
       "        <textPath xlink:href=\"#arrow-d82d6a74d5d44996ad7bb78e487a5ed5-0-7\" class=\"displacy-label\" startOffset=\"50%\" side=\"left\" fill=\"currentColor\" text-anchor=\"middle\">nsubj</textPath>\n",
       "    </text>\n",
       "    <path class=\"displacy-arrowhead\" d=\"M1470,441.5 L1462,429.5 1478,429.5\" fill=\"currentColor\"/>\n",
       "</g>\n",
       "\n",
       "<g class=\"displacy-arrow\">\n",
       "    <path class=\"displacy-arc\" id=\"arrow-d82d6a74d5d44996ad7bb78e487a5ed5-0-8\" stroke-width=\"2px\" d=\"M945,439.5 C945,89.5 1620.0,89.5 1620.0,439.5\" fill=\"none\" stroke=\"currentColor\"/>\n",
       "    <text dy=\"1.25em\" style=\"font-size: 0.8em; letter-spacing: 1px\">\n",
       "        <textPath xlink:href=\"#arrow-d82d6a74d5d44996ad7bb78e487a5ed5-0-8\" class=\"displacy-label\" startOffset=\"50%\" side=\"left\" fill=\"currentColor\" text-anchor=\"middle\">advcl</textPath>\n",
       "    </text>\n",
       "    <path class=\"displacy-arrowhead\" d=\"M1620.0,441.5 L1628.0,429.5 1612.0,429.5\" fill=\"currentColor\"/>\n",
       "</g>\n",
       "\n",
       "<g class=\"displacy-arrow\">\n",
       "    <path class=\"displacy-arc\" id=\"arrow-d82d6a74d5d44996ad7bb78e487a5ed5-0-9\" stroke-width=\"2px\" d=\"M1645,439.5 C1645,352.0 1780.0,352.0 1780.0,439.5\" fill=\"none\" stroke=\"currentColor\"/>\n",
       "    <text dy=\"1.25em\" style=\"font-size: 0.8em; letter-spacing: 1px\">\n",
       "        <textPath xlink:href=\"#arrow-d82d6a74d5d44996ad7bb78e487a5ed5-0-9\" class=\"displacy-label\" startOffset=\"50%\" side=\"left\" fill=\"currentColor\" text-anchor=\"middle\">prep</textPath>\n",
       "    </text>\n",
       "    <path class=\"displacy-arrowhead\" d=\"M1780.0,441.5 L1788.0,429.5 1772.0,429.5\" fill=\"currentColor\"/>\n",
       "</g>\n",
       "\n",
       "<g class=\"displacy-arrow\">\n",
       "    <path class=\"displacy-arc\" id=\"arrow-d82d6a74d5d44996ad7bb78e487a5ed5-0-10\" stroke-width=\"2px\" d=\"M1995,439.5 C1995,264.5 2310.0,264.5 2310.0,439.5\" fill=\"none\" stroke=\"currentColor\"/>\n",
       "    <text dy=\"1.25em\" style=\"font-size: 0.8em; letter-spacing: 1px\">\n",
       "        <textPath xlink:href=\"#arrow-d82d6a74d5d44996ad7bb78e487a5ed5-0-10\" class=\"displacy-label\" startOffset=\"50%\" side=\"left\" fill=\"currentColor\" text-anchor=\"middle\">det</textPath>\n",
       "    </text>\n",
       "    <path class=\"displacy-arrowhead\" d=\"M1995,441.5 L1987,429.5 2003,429.5\" fill=\"currentColor\"/>\n",
       "</g>\n",
       "\n",
       "<g class=\"displacy-arrow\">\n",
       "    <path class=\"displacy-arc\" id=\"arrow-d82d6a74d5d44996ad7bb78e487a5ed5-0-11\" stroke-width=\"2px\" d=\"M2170,439.5 C2170,352.0 2305.0,352.0 2305.0,439.5\" fill=\"none\" stroke=\"currentColor\"/>\n",
       "    <text dy=\"1.25em\" style=\"font-size: 0.8em; letter-spacing: 1px\">\n",
       "        <textPath xlink:href=\"#arrow-d82d6a74d5d44996ad7bb78e487a5ed5-0-11\" class=\"displacy-label\" startOffset=\"50%\" side=\"left\" fill=\"currentColor\" text-anchor=\"middle\">compound</textPath>\n",
       "    </text>\n",
       "    <path class=\"displacy-arrowhead\" d=\"M2170,441.5 L2162,429.5 2178,429.5\" fill=\"currentColor\"/>\n",
       "</g>\n",
       "\n",
       "<g class=\"displacy-arrow\">\n",
       "    <path class=\"displacy-arc\" id=\"arrow-d82d6a74d5d44996ad7bb78e487a5ed5-0-12\" stroke-width=\"2px\" d=\"M1820,439.5 C1820,177.0 2315.0,177.0 2315.0,439.5\" fill=\"none\" stroke=\"currentColor\"/>\n",
       "    <text dy=\"1.25em\" style=\"font-size: 0.8em; letter-spacing: 1px\">\n",
       "        <textPath xlink:href=\"#arrow-d82d6a74d5d44996ad7bb78e487a5ed5-0-12\" class=\"displacy-label\" startOffset=\"50%\" side=\"left\" fill=\"currentColor\" text-anchor=\"middle\">pobj</textPath>\n",
       "    </text>\n",
       "    <path class=\"displacy-arrowhead\" d=\"M2315.0,441.5 L2323.0,429.5 2307.0,429.5\" fill=\"currentColor\"/>\n",
       "</g>\n",
       "\n",
       "<g class=\"displacy-arrow\">\n",
       "    <path class=\"displacy-arc\" id=\"arrow-d82d6a74d5d44996ad7bb78e487a5ed5-0-13\" stroke-width=\"2px\" d=\"M1645,439.5 C1645,2.0 2500.0,2.0 2500.0,439.5\" fill=\"none\" stroke=\"currentColor\"/>\n",
       "    <text dy=\"1.25em\" style=\"font-size: 0.8em; letter-spacing: 1px\">\n",
       "        <textPath xlink:href=\"#arrow-d82d6a74d5d44996ad7bb78e487a5ed5-0-13\" class=\"displacy-label\" startOffset=\"50%\" side=\"left\" fill=\"currentColor\" text-anchor=\"middle\">prep</textPath>\n",
       "    </text>\n",
       "    <path class=\"displacy-arrowhead\" d=\"M2500.0,441.5 L2508.0,429.5 2492.0,429.5\" fill=\"currentColor\"/>\n",
       "</g>\n",
       "\n",
       "<g class=\"displacy-arrow\">\n",
       "    <path class=\"displacy-arc\" id=\"arrow-d82d6a74d5d44996ad7bb78e487a5ed5-0-14\" stroke-width=\"2px\" d=\"M2695,439.5 C2695,264.5 3010.0,264.5 3010.0,439.5\" fill=\"none\" stroke=\"currentColor\"/>\n",
       "    <text dy=\"1.25em\" style=\"font-size: 0.8em; letter-spacing: 1px\">\n",
       "        <textPath xlink:href=\"#arrow-d82d6a74d5d44996ad7bb78e487a5ed5-0-14\" class=\"displacy-label\" startOffset=\"50%\" side=\"left\" fill=\"currentColor\" text-anchor=\"middle\">det</textPath>\n",
       "    </text>\n",
       "    <path class=\"displacy-arrowhead\" d=\"M2695,441.5 L2687,429.5 2703,429.5\" fill=\"currentColor\"/>\n",
       "</g>\n",
       "\n",
       "<g class=\"displacy-arrow\">\n",
       "    <path class=\"displacy-arc\" id=\"arrow-d82d6a74d5d44996ad7bb78e487a5ed5-0-15\" stroke-width=\"2px\" d=\"M2870,439.5 C2870,352.0 3005.0,352.0 3005.0,439.5\" fill=\"none\" stroke=\"currentColor\"/>\n",
       "    <text dy=\"1.25em\" style=\"font-size: 0.8em; letter-spacing: 1px\">\n",
       "        <textPath xlink:href=\"#arrow-d82d6a74d5d44996ad7bb78e487a5ed5-0-15\" class=\"displacy-label\" startOffset=\"50%\" side=\"left\" fill=\"currentColor\" text-anchor=\"middle\">amod</textPath>\n",
       "    </text>\n",
       "    <path class=\"displacy-arrowhead\" d=\"M2870,441.5 L2862,429.5 2878,429.5\" fill=\"currentColor\"/>\n",
       "</g>\n",
       "\n",
       "<g class=\"displacy-arrow\">\n",
       "    <path class=\"displacy-arc\" id=\"arrow-d82d6a74d5d44996ad7bb78e487a5ed5-0-16\" stroke-width=\"2px\" d=\"M2520,439.5 C2520,177.0 3015.0,177.0 3015.0,439.5\" fill=\"none\" stroke=\"currentColor\"/>\n",
       "    <text dy=\"1.25em\" style=\"font-size: 0.8em; letter-spacing: 1px\">\n",
       "        <textPath xlink:href=\"#arrow-d82d6a74d5d44996ad7bb78e487a5ed5-0-16\" class=\"displacy-label\" startOffset=\"50%\" side=\"left\" fill=\"currentColor\" text-anchor=\"middle\">pobj</textPath>\n",
       "    </text>\n",
       "    <path class=\"displacy-arrowhead\" d=\"M3015.0,441.5 L3023.0,429.5 3007.0,429.5\" fill=\"currentColor\"/>\n",
       "</g>\n",
       "\n",
       "<g class=\"displacy-arrow\">\n",
       "    <path class=\"displacy-arc\" id=\"arrow-d82d6a74d5d44996ad7bb78e487a5ed5-0-17\" stroke-width=\"2px\" d=\"M3045,439.5 C3045,352.0 3180.0,352.0 3180.0,439.5\" fill=\"none\" stroke=\"currentColor\"/>\n",
       "    <text dy=\"1.25em\" style=\"font-size: 0.8em; letter-spacing: 1px\">\n",
       "        <textPath xlink:href=\"#arrow-d82d6a74d5d44996ad7bb78e487a5ed5-0-17\" class=\"displacy-label\" startOffset=\"50%\" side=\"left\" fill=\"currentColor\" text-anchor=\"middle\">prep</textPath>\n",
       "    </text>\n",
       "    <path class=\"displacy-arrowhead\" d=\"M3180.0,441.5 L3188.0,429.5 3172.0,429.5\" fill=\"currentColor\"/>\n",
       "</g>\n",
       "\n",
       "<g class=\"displacy-arrow\">\n",
       "    <path class=\"displacy-arc\" id=\"arrow-d82d6a74d5d44996ad7bb78e487a5ed5-0-18\" stroke-width=\"2px\" d=\"M3395,439.5 C3395,264.5 3710.0,264.5 3710.0,439.5\" fill=\"none\" stroke=\"currentColor\"/>\n",
       "    <text dy=\"1.25em\" style=\"font-size: 0.8em; letter-spacing: 1px\">\n",
       "        <textPath xlink:href=\"#arrow-d82d6a74d5d44996ad7bb78e487a5ed5-0-18\" class=\"displacy-label\" startOffset=\"50%\" side=\"left\" fill=\"currentColor\" text-anchor=\"middle\">det</textPath>\n",
       "    </text>\n",
       "    <path class=\"displacy-arrowhead\" d=\"M3395,441.5 L3387,429.5 3403,429.5\" fill=\"currentColor\"/>\n",
       "</g>\n",
       "\n",
       "<g class=\"displacy-arrow\">\n",
       "    <path class=\"displacy-arc\" id=\"arrow-d82d6a74d5d44996ad7bb78e487a5ed5-0-19\" stroke-width=\"2px\" d=\"M3570,439.5 C3570,352.0 3705.0,352.0 3705.0,439.5\" fill=\"none\" stroke=\"currentColor\"/>\n",
       "    <text dy=\"1.25em\" style=\"font-size: 0.8em; letter-spacing: 1px\">\n",
       "        <textPath xlink:href=\"#arrow-d82d6a74d5d44996ad7bb78e487a5ed5-0-19\" class=\"displacy-label\" startOffset=\"50%\" side=\"left\" fill=\"currentColor\" text-anchor=\"middle\">compound</textPath>\n",
       "    </text>\n",
       "    <path class=\"displacy-arrowhead\" d=\"M3570,441.5 L3562,429.5 3578,429.5\" fill=\"currentColor\"/>\n",
       "</g>\n",
       "\n",
       "<g class=\"displacy-arrow\">\n",
       "    <path class=\"displacy-arc\" id=\"arrow-d82d6a74d5d44996ad7bb78e487a5ed5-0-20\" stroke-width=\"2px\" d=\"M3220,439.5 C3220,177.0 3715.0,177.0 3715.0,439.5\" fill=\"none\" stroke=\"currentColor\"/>\n",
       "    <text dy=\"1.25em\" style=\"font-size: 0.8em; letter-spacing: 1px\">\n",
       "        <textPath xlink:href=\"#arrow-d82d6a74d5d44996ad7bb78e487a5ed5-0-20\" class=\"displacy-label\" startOffset=\"50%\" side=\"left\" fill=\"currentColor\" text-anchor=\"middle\">pobj</textPath>\n",
       "    </text>\n",
       "    <path class=\"displacy-arrowhead\" d=\"M3715.0,441.5 L3723.0,429.5 3707.0,429.5\" fill=\"currentColor\"/>\n",
       "</g>\n",
       "</svg></span>"
      ],
      "text/plain": [
       "<IPython.core.display.HTML object>"
      ]
     },
     "metadata": {},
     "output_type": "display_data"
    }
   ],
   "source": [
    "displacy.render(nlp(\"Manchester United looked to be heading upwards when they qualified for the \\\n",
    "Champions League following a strong end to the 2019/20 season.\"))"
   ]
  },
  {
   "cell_type": "code",
   "execution_count": 318,
   "metadata": {},
   "outputs": [],
   "source": [
    "doc_1 = nlp(text1)\n",
    "dict_pos_1 = dict(Counter([tokens.pos_ for tokens in doc_1]))"
   ]
  },
  {
   "cell_type": "code",
   "execution_count": 319,
   "metadata": {},
   "outputs": [],
   "source": [
    "doc_2 = nlp(text2)\n",
    "dict_pos_2 = dict(Counter([tokens.pos_ for tokens in doc_2]))"
   ]
  },
  {
   "cell_type": "code",
   "execution_count": 320,
   "metadata": {
    "scrolled": false
   },
   "outputs": [
    {
     "data": {
      "image/png": "[encoded data removed]",
      "text/plain": [
       "<Figure size 720x720 with 1 Axes>"
      ]
     },
     "metadata": {
      "needs_background": "light"
     },
     "output_type": "display_data"
    }
   ],
   "source": [
    "plt.figure(figsize=(10,10))\n",
    "plt.bar(x =dict_pos_1.keys(),height=dict_pos_1.values() )\n",
    "plt.xticks(rotation=45)\n",
    "for key, val in enumerate(dict_pos_1.values()):\n",
    "    plt.text(key,val,str(val),size='large',ha='center')\n",
    "plt.show()"
   ]
  },
  {
   "cell_type": "code",
   "execution_count": 321,
   "metadata": {},
   "outputs": [
    {
     "data": {
      "image/png": "[encoded data removed]",
      "text/plain": [
       "<Figure size 720x720 with 1 Axes>"
      ]
     },
     "metadata": {
      "needs_background": "light"
     },
     "output_type": "display_data"
    }
   ],
   "source": [
    "plt.figure(figsize=(10,10))\n",
    "plt.bar(x=dict_pos_2.keys(),height=dict_pos_2.values())\n",
    "plt.xticks(rotation=45)\n",
    "plt.xlabel('POS TAGS')\n",
    "plt.ylabel('Value counts')\n",
    "for key, val in enumerate(dict_pos_2.values()):\n",
    "    plt.text(key,val,str(val),size='large',ha='center')\n",
    "plt.show()"
   ]
  },
  {
   "cell_type": "code",
   "execution_count": 322,
   "metadata": {},
   "outputs": [
    {
     "data": {
      "image/png": "[encoded data removed]",
      "text/plain": [
       "<Figure size 1440x720 with 2 Axes>"
      ]
     },
     "metadata": {
      "needs_background": "light"
     },
     "output_type": "display_data"
    }
   ],
   "source": [
    "fig,ax = plt.subplots(figsize=(20,10),nrows=1,ncols=2)\n",
    "ax = ax.ravel()\n",
    "\n",
    "ax[0].bar(dict_pos_1.keys(),dict_pos_1.values())\n",
    "ax[0].tick_params(axis='x', rotation=90)\n",
    "ax[0].set_ylabel('value counts')\n",
    "ax[0].set_xlabel('POS')\n",
    "ax[0].set_title('Sport News')\n",
    "# aşağıdaki for net sayıların her bir bar üstüne yazmasını sağlıyor\n",
    "for key, val in enumerate(dict_pos_1.values()):\n",
    "    ax[0].text(key,val,str(val),size='large',ha='center')\n",
    "ax[1].bar(dict_pos_2.keys(), dict_pos_2.values())\n",
    "ax[1].tick_params(axis='x', rotation=90)\n",
    "ax[1].set_ylabel('value counts')\n",
    "ax[1].set_xlabel('POS')\n",
    "ax[1].set_title('Literature Abstract')\n",
    "for key, val in enumerate(dict_pos_2.values()):\n",
    "    ax[1].text(key,val,str(val),size='large',ha='center')\n",
    "plt.show()"
   ]
  },
  {
   "cell_type": "code",
   "execution_count": 323,
   "metadata": {},
   "outputs": [],
   "source": [
    "# doc objesi içindeki stop_words, punct ve boşukların düşürülmesini sağlayan fonksiyon\n",
    "def doc_filter(doc):\n",
    "    tokens_of_word = list()\n",
    "    for tokens in (doc):\n",
    "        if not(tokens.is_stop or tokens.is_punct or tokens.is_space):\n",
    "            tokens_of_word.append(tokens.lemma_)\n",
    "    return tokens_of_word"
   ]
  },
  {
   "cell_type": "code",
   "execution_count": 324,
   "metadata": {},
   "outputs": [],
   "source": [
    "# istenilen n-gramların oluşturulmasını sağlayan fonksiyon\n",
    "def ngram(document, n):\n",
    "    \"\"\"document: list, array like object,\n",
    "    n: n of ngram\"\"\"\n",
    "    ngrams_  = list()\n",
    "    for i in range(len(document)-n+1):\n",
    "        ngrams_.append(document[i:i+n])\n",
    "    return ngrams_"
   ]
  },
  {
   "cell_type": "code",
   "execution_count": 325,
   "metadata": {},
   "outputs": [],
   "source": [
    "# Oluturulan ngram listelerinin içindeki unique elemanları sayan fonksiyon\n",
    "def ngram_counter(ngram_list,threshold=0):\n",
    "    listed = list()\n",
    "    listed=([ngrams,ngram_list.count(ngrams)] for ngrams in ngram_list if ngram_list.count(ngrams)>threshold)\n",
    "    unique = list()\n",
    "    for x in listed:\n",
    "        if x not in unique:\n",
    "            unique.append(x)\n",
    "    return unique"
   ]
  },
  {
   "cell_type": "code",
   "execution_count": 326,
   "metadata": {},
   "outputs": [],
   "source": [
    "filtered_doc_1 = doc_filter(doc_1)\n",
    "\n",
    "unigram_doc_1 = ngram_counter(ngram(filtered_doc_1,1))\n",
    "bigram_doc_1 = ngram_counter(ngram(filtered_doc_1,2))\n",
    "trigram_doc_1 = ngram_counter(ngram(filtered_doc_1,3))"
   ]
  },
  {
   "cell_type": "code",
   "execution_count": 327,
   "metadata": {},
   "outputs": [
    {
     "data": {
      "text/plain": [
       "[[['need'], 5],\n",
       " [['Manchester'], 4],\n",
       " [['United'], 4],\n",
       " [['League'], 4],\n",
       " [['Champions'], 3],\n",
       " [['season'], 3],\n",
       " [['centre'], 3],\n",
       " [['qualify'], 2],\n",
       " [['follow'], 2],\n",
       " [['end'], 2]]"
      ]
     },
     "execution_count": 327,
     "metadata": {},
     "output_type": "execute_result"
    }
   ],
   "source": [
    "sorted(unigram_doc_1, key=lambda unigram_doc_1:unigram_doc_1[1],reverse=True)[:10]"
   ]
  },
  {
   "cell_type": "code",
   "execution_count": 328,
   "metadata": {},
   "outputs": [
    {
     "data": {
      "text/plain": [
       "[[['Manchester', 'United'], 3],\n",
       " [['Champions', 'League'], 3],\n",
       " [['qualify', 'Champions'], 2],\n",
       " [['secure', 'finish'], 2],\n",
       " [['finish', 'final'], 2],\n",
       " [['final', 'day'], 2],\n",
       " [['bad', 'start'], 2],\n",
       " [['Old', 'Trafford'], 2],\n",
       " [['United', 'look'], 1],\n",
       " [['look', 'head'], 1]]"
      ]
     },
     "execution_count": 328,
     "metadata": {},
     "output_type": "execute_result"
    }
   ],
   "source": [
    "sorted(bigram_doc_1, key=lambda bigram_doc_1:bigram_doc_1[1],reverse=True)[:10]"
   ]
  },
  {
   "cell_type": "code",
   "execution_count": 329,
   "metadata": {},
   "outputs": [
    {
     "data": {
      "text/plain": [
       "[[['qualify', 'Champions', 'League'], 2],\n",
       " [['secure', 'finish', 'final'], 2],\n",
       " [['finish', 'final', 'day'], 2],\n",
       " [['Manchester', 'United', 'look'], 1],\n",
       " [['United', 'look', 'head'], 1],\n",
       " [['look', 'head', 'upwards'], 1],\n",
       " [['head', 'upwards', 'qualify'], 1],\n",
       " [['upwards', 'qualify', 'Champions'], 1],\n",
       " [['Champions', 'League', 'follow'], 1],\n",
       " [['League', 'follow', 'strong'], 1]]"
      ]
     },
     "execution_count": 329,
     "metadata": {},
     "output_type": "execute_result"
    }
   ],
   "source": [
    "sorted(trigram_doc_1, key=lambda trigram_doc_1:trigram_doc_1[1],reverse=True)[:10]"
   ]
  },
  {
   "cell_type": "code",
   "execution_count": 330,
   "metadata": {},
   "outputs": [],
   "source": [
    "filtered_doc_2 = doc_filter(doc_2)\n",
    "\n",
    "unigram_doc_2 = ngram_counter(ngram(filtered_doc_2,1))\n",
    "bigram_doc_2 = ngram_counter(ngram(filtered_doc_2,2))\n",
    "trigram_doc_2 = ngram_counter(ngram(filtered_doc_2,3))"
   ]
  },
  {
   "cell_type": "code",
   "execution_count": 331,
   "metadata": {},
   "outputs": [
    {
     "data": {
      "text/plain": [
       "[[['recommender'], 10],\n",
       " [['system'], 10],\n",
       " [['e'], 10],\n",
       " [['application'], 7],\n",
       " [['development'], 4],\n",
       " [['recommendation'], 3],\n",
       " [['business'], 3],\n",
       " [['provide'], 2],\n",
       " [['online'], 2],\n",
       " [['service'], 2]]"
      ]
     },
     "execution_count": 331,
     "metadata": {},
     "output_type": "execute_result"
    }
   ],
   "source": [
    "sorted(unigram_doc_2, key=lambda unigram_doc_2:unigram_doc_2[1],reverse=True)[:10]"
   ]
  },
  {
   "cell_type": "code",
   "execution_count": 332,
   "metadata": {},
   "outputs": [
    {
     "data": {
      "text/plain": [
       "[[['recommender', 'system'], 10],\n",
       " [['development', 'recommender'], 4],\n",
       " [['system', 'software'], 2],\n",
       " [['real', 'world'], 2],\n",
       " [['world', 'application'], 2],\n",
       " [['e', 'business'], 2],\n",
       " [['system', 'aim'], 1],\n",
       " [['aim', 'provide'], 1],\n",
       " [['provide', 'user'], 1],\n",
       " [['user', 'personalize'], 1]]"
      ]
     },
     "execution_count": 332,
     "metadata": {},
     "output_type": "execute_result"
    }
   ],
   "source": [
    "sorted(bigram_doc_2, key=lambda bigram_doc_2:bigram_doc_2[1],reverse=True)[:10]"
   ]
  },
  {
   "cell_type": "code",
   "execution_count": 333,
   "metadata": {},
   "outputs": [
    {
     "data": {
      "text/plain": [
       "[[['development', 'recommender', 'system'], 4],\n",
       " [['recommender', 'system', 'software'], 2],\n",
       " [['real', 'world', 'application'], 2],\n",
       " [['recommender', 'system', 'aim'], 1],\n",
       " [['system', 'aim', 'provide'], 1],\n",
       " [['aim', 'provide', 'user'], 1],\n",
       " [['provide', 'user', 'personalize'], 1],\n",
       " [['user', 'personalize', 'online'], 1],\n",
       " [['personalize', 'online', 'product'], 1],\n",
       " [['online', 'product', 'service'], 1]]"
      ]
     },
     "execution_count": 333,
     "metadata": {},
     "output_type": "execute_result"
    }
   ],
   "source": [
    "sorted(trigram_doc_2, key=lambda trigram_doc_2:trigram_doc_2[1],reverse=True)[:10]"
   ]
  },
  {
   "cell_type": "markdown",
   "metadata": {},
   "source": []
  },
  {
   "cell_type": "code",
   "execution_count": null,
   "metadata": {},
   "outputs": [],
   "source": []
  }
 ],
 "metadata": {
  "kernelspec": {
   "display_name": "Python 3",
   "language": "python",
   "name": "python3"
  },
  "language_info": {
   "codemirror_mode": {
    "name": "ipython",
    "version": 3
   },
   "file_extension": ".py",
   "mimetype": "text/x-python",
   "name": "python",
   "nbconvert_exporter": "python",
   "pygments_lexer": "ipython3",
   "version": "3.7.5"
  }
 },
 "nbformat": 4,
 "nbformat_minor": 4
}
